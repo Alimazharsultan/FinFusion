{
 "cells": [
  {
   "cell_type": "code",
   "execution_count": 1,
   "metadata": {},
   "outputs": [],
   "source": [
    "from selenium import webdriver\n",
    "from selenium.webdriver.firefox.service import Service\n",
    "from selenium.webdriver.firefox.options import Options\n",
    "from selenium.webdriver.common.by import By\n",
    "import time\n",
    "import re\n",
    "from datetime import datetime, timedelta\n",
    "from bs4 import BeautifulSoup\n",
    "import csv\n",
    "\n"
   ]
  },
  {
   "cell_type": "code",
   "execution_count": 2,
   "metadata": {},
   "outputs": [],
   "source": [
    "# Setup Firefox options\n",
    "firefox_options = Options()\n",
    "# firefox_options.add_argument(\"--headless\")  # ensure GUI is off\n",
    "\n",
    "# Set the Firefox driver (update the path if needed)\n",
    "webdriver_service = Service('geckodriver.exe')\n",
    "driver = webdriver.Firefox(service=webdriver_service, options=firefox_options)\n"
   ]
  },
  {
   "cell_type": "code",
   "execution_count": 3,
   "metadata": {},
   "outputs": [],
   "source": [
    "url = 'https://finance.yahoo.com/quote/TSLA?p=TSLA'\n",
    "driver.get(url)\n"
   ]
  },
  {
   "cell_type": "code",
   "execution_count": 4,
   "metadata": {},
   "outputs": [
    {
     "name": "stdout",
     "output_type": "stream",
     "text": [
      "TSLA\n"
     ]
    }
   ],
   "source": [
    "stock = url.split('/')[-1].split('?')[0]\n",
    "\n",
    "print(stock)\n"
   ]
  },
  {
   "attachments": {},
   "cell_type": "markdown",
   "metadata": {},
   "source": [
    "## Download historical Data"
   ]
  },
  {
   "cell_type": "code",
   "execution_count": 103,
   "metadata": {},
   "outputs": [
    {
     "ename": "NoSuchElementException",
     "evalue": "Message: Unable to locate element: /html/body/div[1]/div/div/div[1]/div/div[2]/div/div/div[7]/div/div/section/div/ul/li[5]/a; For documentation on this error, please visit: https://www.selenium.dev/documentation/webdriver/troubleshooting/errors#no-such-element-exception\nStacktrace:\nRemoteError@chrome://remote/content/shared/RemoteError.sys.mjs:8:8\nWebDriverError@chrome://remote/content/shared/webdriver/Errors.sys.mjs:189:5\nNoSuchElementError@chrome://remote/content/shared/webdriver/Errors.sys.mjs:507:5\ndom.find/</<@chrome://remote/content/shared/DOM.sys.mjs:132:16\n",
     "output_type": "error",
     "traceback": [
      "\u001b[1;31m---------------------------------------------------------------------------\u001b[0m",
      "\u001b[1;31mElementClickInterceptedException\u001b[0m          Traceback (most recent call last)",
      "Cell \u001b[1;32mIn[103], line 3\u001b[0m\n\u001b[0;32m      2\u001b[0m \u001b[39mtry\u001b[39;00m:\n\u001b[1;32m----> 3\u001b[0m     driver\u001b[39m.\u001b[39;49mfind_element(By\u001b[39m.\u001b[39;49mXPATH, \u001b[39m\"\u001b[39;49m\u001b[39m/html/body/div[1]/div/div/div[1]/div/div[2]/div/div/div[7]/section/div/ul/li[5]/a\u001b[39;49m\u001b[39m\"\u001b[39;49m)\u001b[39m.\u001b[39;49mclick()\n\u001b[0;32m      4\u001b[0m \u001b[39mexcept\u001b[39;00m:\n",
      "File \u001b[1;32md:\\FinFusion\\scraping\\env\\Lib\\site-packages\\selenium\\webdriver\\remote\\webelement.py:93\u001b[0m, in \u001b[0;36mWebElement.click\u001b[1;34m(self)\u001b[0m\n\u001b[0;32m     92\u001b[0m \u001b[39m\u001b[39m\u001b[39m\"\"\"Clicks the element.\"\"\"\u001b[39;00m\n\u001b[1;32m---> 93\u001b[0m \u001b[39mself\u001b[39;49m\u001b[39m.\u001b[39;49m_execute(Command\u001b[39m.\u001b[39;49mCLICK_ELEMENT)\n",
      "File \u001b[1;32md:\\FinFusion\\scraping\\env\\Lib\\site-packages\\selenium\\webdriver\\remote\\webelement.py:394\u001b[0m, in \u001b[0;36mWebElement._execute\u001b[1;34m(self, command, params)\u001b[0m\n\u001b[0;32m    393\u001b[0m params[\u001b[39m\"\u001b[39m\u001b[39mid\u001b[39m\u001b[39m\"\u001b[39m] \u001b[39m=\u001b[39m \u001b[39mself\u001b[39m\u001b[39m.\u001b[39m_id\n\u001b[1;32m--> 394\u001b[0m \u001b[39mreturn\u001b[39;00m \u001b[39mself\u001b[39;49m\u001b[39m.\u001b[39;49m_parent\u001b[39m.\u001b[39;49mexecute(command, params)\n",
      "File \u001b[1;32md:\\FinFusion\\scraping\\env\\Lib\\site-packages\\selenium\\webdriver\\remote\\webdriver.py:344\u001b[0m, in \u001b[0;36mWebDriver.execute\u001b[1;34m(self, driver_command, params)\u001b[0m\n\u001b[0;32m    343\u001b[0m \u001b[39mif\u001b[39;00m response:\n\u001b[1;32m--> 344\u001b[0m     \u001b[39mself\u001b[39;49m\u001b[39m.\u001b[39;49merror_handler\u001b[39m.\u001b[39;49mcheck_response(response)\n\u001b[0;32m    345\u001b[0m     response[\u001b[39m\"\u001b[39m\u001b[39mvalue\u001b[39m\u001b[39m\"\u001b[39m] \u001b[39m=\u001b[39m \u001b[39mself\u001b[39m\u001b[39m.\u001b[39m_unwrap_value(response\u001b[39m.\u001b[39mget(\u001b[39m\"\u001b[39m\u001b[39mvalue\u001b[39m\u001b[39m\"\u001b[39m, \u001b[39mNone\u001b[39;00m))\n",
      "File \u001b[1;32md:\\FinFusion\\scraping\\env\\Lib\\site-packages\\selenium\\webdriver\\remote\\errorhandler.py:229\u001b[0m, in \u001b[0;36mErrorHandler.check_response\u001b[1;34m(self, response)\u001b[0m\n\u001b[0;32m    228\u001b[0m     \u001b[39mraise\u001b[39;00m exception_class(message, screen, stacktrace, alert_text)  \u001b[39m# type: ignore[call-arg]  # mypy is not smart enough here\u001b[39;00m\n\u001b[1;32m--> 229\u001b[0m \u001b[39mraise\u001b[39;00m exception_class(message, screen, stacktrace)\n",
      "\u001b[1;31mElementClickInterceptedException\u001b[0m: Message: Element <a class=\"Lh(44px) Ta(c) Bdbw(3px) Bdbs(s) Px(12px) C($linkColor) Bdbc($seperatorColor) D(b) Td(n) selected_Bdbc($linkColor) selected_C($primaryColor) selected_Fw(b) \" href=\"/quote/TSLA/history?p=TSLA\"> is not clickable at point (459,86) because another element <li class=\"nr-applet-main-nav-item Pend(navPaddings) Whs(nw) Fl(start) H(itemHeight) H(itemHeight_uhMagDesign)! Pend(30px)! opened-subnav\"> obscures it\nStacktrace:\nRemoteError@chrome://remote/content/shared/RemoteError.sys.mjs:8:8\nWebDriverError@chrome://remote/content/shared/webdriver/Errors.sys.mjs:189:5\nElementClickInterceptedError@chrome://remote/content/shared/webdriver/Errors.sys.mjs:333:5\nwebdriverClickElement@chrome://remote/content/marionette/interaction.sys.mjs:160:11\ninteraction.clickElement@chrome://remote/content/marionette/interaction.sys.mjs:119:11\nclickElement@chrome://remote/content/marionette/actors/MarionetteCommandsChild.sys.mjs:202:29\nreceiveMessage@chrome://remote/content/marionette/actors/MarionetteCommandsChild.sys.mjs:84:31\n",
      "\nDuring handling of the above exception, another exception occurred:\n",
      "\u001b[1;31mNoSuchElementException\u001b[0m                    Traceback (most recent call last)",
      "Cell \u001b[1;32mIn[103], line 5\u001b[0m\n\u001b[0;32m      3\u001b[0m     driver\u001b[39m.\u001b[39mfind_element(By\u001b[39m.\u001b[39mXPATH, \u001b[39m\"\u001b[39m\u001b[39m/html/body/div[1]/div/div/div[1]/div/div[2]/div/div/div[7]/section/div/ul/li[5]/a\u001b[39m\u001b[39m\"\u001b[39m)\u001b[39m.\u001b[39mclick()\n\u001b[0;32m      4\u001b[0m \u001b[39mexcept\u001b[39;00m:\n\u001b[1;32m----> 5\u001b[0m     driver\u001b[39m.\u001b[39;49mfind_element(By\u001b[39m.\u001b[39;49mXPATH, \u001b[39m\"\u001b[39;49m\u001b[39m/html/body/div[1]/div/div/div[1]/div/div[2]/div/div/div[7]/div/div/section/div/ul/li[5]/a\u001b[39;49m\u001b[39m\"\u001b[39;49m)\u001b[39m.\u001b[39mclick()\n\u001b[0;32m      7\u001b[0m \u001b[39m# click on time period tab \u001b[39;00m\n\u001b[0;32m      8\u001b[0m time\u001b[39m.\u001b[39msleep(\u001b[39m1\u001b[39m)\n",
      "File \u001b[1;32md:\\FinFusion\\scraping\\env\\Lib\\site-packages\\selenium\\webdriver\\remote\\webdriver.py:738\u001b[0m, in \u001b[0;36mWebDriver.find_element\u001b[1;34m(self, by, value)\u001b[0m\n\u001b[0;32m    735\u001b[0m     by \u001b[39m=\u001b[39m By\u001b[39m.\u001b[39mCSS_SELECTOR\n\u001b[0;32m    736\u001b[0m     value \u001b[39m=\u001b[39m \u001b[39mf\u001b[39m\u001b[39m'\u001b[39m\u001b[39m[name=\u001b[39m\u001b[39m\"\u001b[39m\u001b[39m{\u001b[39;00mvalue\u001b[39m}\u001b[39;00m\u001b[39m\"\u001b[39m\u001b[39m]\u001b[39m\u001b[39m'\u001b[39m\n\u001b[1;32m--> 738\u001b[0m \u001b[39mreturn\u001b[39;00m \u001b[39mself\u001b[39;49m\u001b[39m.\u001b[39;49mexecute(Command\u001b[39m.\u001b[39;49mFIND_ELEMENT, {\u001b[39m\"\u001b[39;49m\u001b[39musing\u001b[39;49m\u001b[39m\"\u001b[39;49m: by, \u001b[39m\"\u001b[39;49m\u001b[39mvalue\u001b[39;49m\u001b[39m\"\u001b[39;49m: value})[\u001b[39m\"\u001b[39m\u001b[39mvalue\u001b[39m\u001b[39m\"\u001b[39m]\n",
      "File \u001b[1;32md:\\FinFusion\\scraping\\env\\Lib\\site-packages\\selenium\\webdriver\\remote\\webdriver.py:344\u001b[0m, in \u001b[0;36mWebDriver.execute\u001b[1;34m(self, driver_command, params)\u001b[0m\n\u001b[0;32m    342\u001b[0m response \u001b[39m=\u001b[39m \u001b[39mself\u001b[39m\u001b[39m.\u001b[39mcommand_executor\u001b[39m.\u001b[39mexecute(driver_command, params)\n\u001b[0;32m    343\u001b[0m \u001b[39mif\u001b[39;00m response:\n\u001b[1;32m--> 344\u001b[0m     \u001b[39mself\u001b[39;49m\u001b[39m.\u001b[39;49merror_handler\u001b[39m.\u001b[39;49mcheck_response(response)\n\u001b[0;32m    345\u001b[0m     response[\u001b[39m\"\u001b[39m\u001b[39mvalue\u001b[39m\u001b[39m\"\u001b[39m] \u001b[39m=\u001b[39m \u001b[39mself\u001b[39m\u001b[39m.\u001b[39m_unwrap_value(response\u001b[39m.\u001b[39mget(\u001b[39m\"\u001b[39m\u001b[39mvalue\u001b[39m\u001b[39m\"\u001b[39m, \u001b[39mNone\u001b[39;00m))\n\u001b[0;32m    346\u001b[0m     \u001b[39mreturn\u001b[39;00m response\n",
      "File \u001b[1;32md:\\FinFusion\\scraping\\env\\Lib\\site-packages\\selenium\\webdriver\\remote\\errorhandler.py:229\u001b[0m, in \u001b[0;36mErrorHandler.check_response\u001b[1;34m(self, response)\u001b[0m\n\u001b[0;32m    227\u001b[0m         alert_text \u001b[39m=\u001b[39m value[\u001b[39m\"\u001b[39m\u001b[39malert\u001b[39m\u001b[39m\"\u001b[39m]\u001b[39m.\u001b[39mget(\u001b[39m\"\u001b[39m\u001b[39mtext\u001b[39m\u001b[39m\"\u001b[39m)\n\u001b[0;32m    228\u001b[0m     \u001b[39mraise\u001b[39;00m exception_class(message, screen, stacktrace, alert_text)  \u001b[39m# type: ignore[call-arg]  # mypy is not smart enough here\u001b[39;00m\n\u001b[1;32m--> 229\u001b[0m \u001b[39mraise\u001b[39;00m exception_class(message, screen, stacktrace)\n",
      "\u001b[1;31mNoSuchElementException\u001b[0m: Message: Unable to locate element: /html/body/div[1]/div/div/div[1]/div/div[2]/div/div/div[7]/div/div/section/div/ul/li[5]/a; For documentation on this error, please visit: https://www.selenium.dev/documentation/webdriver/troubleshooting/errors#no-such-element-exception\nStacktrace:\nRemoteError@chrome://remote/content/shared/RemoteError.sys.mjs:8:8\nWebDriverError@chrome://remote/content/shared/webdriver/Errors.sys.mjs:189:5\nNoSuchElementError@chrome://remote/content/shared/webdriver/Errors.sys.mjs:507:5\ndom.find/</<@chrome://remote/content/shared/DOM.sys.mjs:132:16\n"
     ]
    }
   ],
   "source": [
    "# click on historical data tab \n",
    "try:\n",
    "    driver.find_element(By.XPATH, \"/html/body/div[1]/div/div/div[1]/div/div[2]/div/div/div[7]/section/div/ul/li[5]/a\").click()\n",
    "except:\n",
    "    driver.find_element(By.XPATH, \"/html/body/div[1]/div/div/div[1]/div/div[2]/div/div/div[7]/div/div/section/div/ul/li[5]/a\").click()\n",
    "    \n",
    "# click on time period tab \n",
    "time.sleep(1)\n",
    "try:\n",
    "    dates = driver.find_element(By.XPATH, \"/html/body/div[1]/div/div/div[1]/div/div[3]/div[1]/div/div[2]/section/div[1]/div[1]/div[1]/div/div/div/span\").text\n",
    "except:\n",
    "    dates = driver.find_element(By.XPATH, \"/html/body/div[1]/div/div/div[1]/div/div[3]/div[1]/div/div[2]/section/div[1]/div[1]/div[1]/div/div/div\").text\n",
    "                                       \n",
    "# Extract the end date from the string\n",
    "end_date_str = dates.split('-')[1].strip()\n",
    "\n",
    "# Convert the end date string to a datetime object\n",
    "end_date = datetime.strptime(end_date_str, \"%b %d, %Y\")\n",
    "\n",
    "# Subtract 5 years from the end date\n",
    "five_years_before = end_date - timedelta(days=5*365)\n",
    "\n",
    "# Convert the new date back to a string\n",
    "five_years_before_str = five_years_before.strftime(\"%d / %m / %Y\")\n",
    "\n",
    "print(five_years_before_str)\n",
    "\n",
    "driver.find_element(By.XPATH, '/html/body/div[1]/div/div/div[1]/div/div[3]/div[1]/div/div[2]/section/div[1]/div[1]/div[1]/div/div/div').click()\n",
    "driver.find_element(By.XPATH, '/html/body/div[1]/div/div/div[1]/div/div[3]/div[1]/div/div[2]/section/div[1]/div[1]/div[1]/div/div/div[2]/div/ul[2]/li[3]/button').click()\n",
    "driver.find_element(By.XPATH, '/html/body/div[1]/div/div/div[1]/div/div[3]/div[1]/div/div[2]/section/div[1]/div[1]/button').click()\n",
    "time.sleep(1)\n",
    "driver.find_element(By.XPATH, '/html/body/div[1]/div/div/div[1]/div/div[3]/div[1]/div/div[2]/section/div[1]/div[2]/span[2]/a').click()\n"
   ]
  },
  {
   "attachments": {},
   "cell_type": "markdown",
   "metadata": {},
   "source": [
    "## Get Company Financials"
   ]
  },
  {
   "cell_type": "code",
   "execution_count": 106,
   "metadata": {},
   "outputs": [],
   "source": [
    "try:\n",
    "    driver.find_element(By.XPATH, '/html/body/div[1]/div/div/div[1]/div/div[2]/div/div/div[7]/section/div/ul/li[7]/a').click()\n",
    "except:\n",
    "    try:\n",
    "        driver.find_element(By.XPATH, '/html/body/div[1]/div/div/div[1]/div/div[2]/div/div/div[7]/div/div/section/div/ul/li[7]/a').click()\n",
    "    except:                           \n",
    "        driver.find_element(By.XPATH, '/html/body/div[1]/div/div/div[1]/div/div[2]/div/div/div[7]/section/div/ul/li[7]/a').click()\n",
    "    "
   ]
  },
  {
   "attachments": {},
   "cell_type": "markdown",
   "metadata": {},
   "source": [
    "### Income Statement"
   ]
  },
  {
   "cell_type": "code",
   "execution_count": 107,
   "metadata": {},
   "outputs": [],
   "source": [
    "driver.find_element(By.XPATH, '/html/body/div[1]/div/div/div[1]/div/div[3]/div[1]/div/div[2]/div/div/section/div[2]/button').click()\n"
   ]
  },
  {
   "cell_type": "code",
   "execution_count": 111,
   "metadata": {},
   "outputs": [
    {
     "name": "stdout",
     "output_type": "stream",
     "text": [
      "Breakdown\n",
      "ttm\n",
      "12/30/2022\n",
      "12/30/2021\n",
      "12/30/2020\n",
      "12/30/2019\n",
      "[['Breakdown', 'ttm', '12/30/2022', '12/30/2021', '12/30/2020', '12/30/2019'], ['Total Revenue', '94,028,000', '81,462,000', '53,823,000', '31,536,000', '24,578,000'], ['Cost of Revenue', '73,825,000', '60,609,000', '40,217,000', '24,906,000', '20,509,000'], ['Gross Profit', '20,203,000', '20,853,000', '13,606,000', '6,630,000', '4,069,000'], ['Operating Expense', '7,517,000', '7,021,000', '7,110,000', '4,636,000', '3,989,000'], ['Operating Income', '12,686,000', '13,832,000', '6,496,000', '1,994,000', '80,000'], ['Net Non Operating Interest Income Expense', '551,000', '106,000', '-315,000', '-718,000', '-641,000'], ['Other Income Expense', '119,000', '-219,000', '162,000', '-122,000', '-104,000'], ['Pretax Income', '13,356,000', '13,719,000', '6,343,000', '1,154,000', '-665,000'], ['Tax Provision', '1,165,000', '1,132,000', '699,000', '292,000', '110,000'], ['Net Income Common Stockholders', '12,235,000', '12,583,000', '5,519,000', '690,000', '-862,000'], ['Average Dilution Earnings', '2,000', '1,000', '-', '-', '-'], ['Diluted NI Available to Com Stockholders', '12,237,000', '12,584,000', '5,519,000', '690,000', '-862,000'], ['Basic EPS', '-', '4.02', '1.87', '0.25', '-0.33'], ['Diluted EPS', '-', '3.62', '1.63', '0.21', '-0.33'], ['Basic Average Shares', '-', '3,130,000', '2,958,000', '2,799,000', '2,661,000'], ['Diluted Average Shares', '-', '3,475,000', '3,387,000', '3,249,000', '2,661,000'], ['Total Operating Income as Reported', '12,652,000', '13,656,000', '-6,523,000', '1,994,000', '-69,000'], ['Total Expenses', '81,342,000', '67,630,000', '47,327,000', '29,542,000', '24,498,000'], ['Net Income from Continuing & Discontinued Operation', '12,222,000', '12,583,000', '5,519,000', '690,000', '-862,000'], ['Normalized Income', '12,253,034', '12,744,920', '5,494,970', '690,000', '-753,230'], ['Interest Income', '694,000', '297,000', '56,000', '30,000', '44,000'], ['Interest Expense', '143,000', '191,000', '371,000', '748,000', '685,000'], ['Net Interest Income', '551,000', '106,000', '-315,000', '-718,000', '-641,000'], ['EBIT', '13,499,000', '13,910,000', '6,714,000', '1,902,000', '20,000'], ['EBITDA', '17,644,000', '17,657,000', '9,625,000', '4,224,000', '2,174,000'], ['Reconciled Cost of Revenue', '73,825,000', '60,609,000', '40,217,000', '24,906,000', '20,509,000'], ['Reconciled Depreciation', '4,145,000', '3,747,000', '2,911,000', '2,322,000', '2,154,000'], ['Net Income from Continuing Operation Net Minority Interest', '12,222,000', '12,583,000', '5,519,000', '690,000', '-862,000'], ['Total Unusual Items Excluding Goodwill', '-34,000', '-176,000', '27,000', '0', '-149,000'], ['Total Unusual Items', '-34,000', '-176,000', '27,000', '0', '-149,000'], ['Normalized EBITDA', '17,678,000', '17,833,000', '9,598,000', '4,224,000', '2,323,000'], ['Tax Rate for Calcs', '0', '0', '0', '0', '0'], ['Tax Effect of Unusual Items', '-2,966', '-14,080', '2,970', '0', '-40,230']]\n"
     ]
    }
   ],
   "source": [
    "try:\n",
    "    table_header = driver.find_element(By.XPATH, '/html/body/div[1]/div/div/div[1]/div/div[3]/div[1]/div/div[2]/section/div[3]/div[1]/div/div[1]/div')\n",
    "except:\n",
    "    table_header = driver.find_element(By.XPATH, '/html/body/div[1]/div/div/div[1]/div/div[3]/div[1]/div/div[2]/div/div/section/div[3]/div[1]/div/div[1]/div')\n",
    "table_html = table_header.get_attribute('innerHTML')\n",
    "soup = BeautifulSoup(table_html, 'html.parser')\n",
    "spans = soup.find_all('span')\n",
    "\n",
    "csv_data = []\n",
    "row = []\n",
    "for span in spans:\n",
    "    row.append(span.text)\n",
    "    print(span.text)\n",
    "\n",
    "csv_data.append(row)\n",
    "\n",
    "try:\n",
    "    row = driver.find_element(By.XPATH, '/html/body/div[1]/div/div/div[1]/div/div[3]/div[1]/div/div[2]/section/div[3]/div[1]/div/div[2]')\n",
    "except:\n",
    "    row = driver.find_element(By.XPATH, '/html/body/div[1]/div/div/div[1]/div/div[3]/div[1]/div/div[2]/div/div/section/div[3]/div[1]/div/div[2]')\n",
    "row_html = row.get_attribute('innerHTML')\n",
    "# <div class=\"D(tbr) fi-row Bgc($hoverBgColor):h\"><div class=\"D(tbc) Ta(start) Pend(15px)--mv2 Pend(10px) Bxz(bb) Py(8px) Bdends(s) Bdbs(s) Bdstarts(s) Bdstartw(1px) Bdbw(1px) Bdendw(1px) Bdc($seperatorColor) Pos(st) Start(0) Bgc($lv2BgColor) fi-row:h_Bgc($hoverBgColor) Pstart(15px)--mv2 Pstart(10px)\"><div class=\"D(ib) Va(m) Ell Mt(-3px) W(215px)--mv2 W(200px) undefined\" title=\"Total Revenue\"><button aria-label=\"Total Revenue\" class=\"P(0) M(0) Va(m) Bd(0) Fz(s) Mend(2px) tgglBtn\"><svg class=\"H(16px) Fill($primaryColor) Stk($primaryColor) tgglBtn:h_Fill($linkColor) tgglBtn:h_Stk($linkColor) Cur(p)\" width=\"16\" style=\"stroke-width:0;vertical-align:bottom\" height=\"16\" viewBox=\"0 0 48 48\" data-icon=\"caret-down\"><path d=\"M24.21 33.173l12.727-12.728c.78-.78.78-2.048 0-2.828-.78-.78-2.047-.78-2.828 0l-9.9 9.9-9.9-9.9c-.78-.78-2.047-.78-2.827 0-.78.78-.78 2.047 0 2.828L24.21 33.173z\"></path></svg></button><span class=\"Va(m)\">Total Revenue</span></div><div class=\"W(3px) Pos(a) Start(100%) T(0) H(100%) Bg($pfColumnFakeShadowGradient) Pe(n) Pend(5px)\"></div></div><div class=\"Ta(c) Py(6px) Bxz(bb) BdB Bdc($seperatorColor) Miw(120px) Miw(100px)--pnclg Bgc($lv1BgColor) fi-row:h_Bgc($hoverBgColor) D(tbc)\" data-test=\"fin-col\"><span>94,028,000</span></div><div class=\"Ta(c) Py(6px) Bxz(bb) BdB Bdc($seperatorColor) Miw(120px) Miw(100px)--pnclg D(tbc)\" data-test=\"fin-col\"><span>81,462,000</span></div><div class=\"Ta(c) Py(6px) Bxz(bb) BdB Bdc($seperatorColor) Miw(120px) Miw(100px)--pnclg Bgc($lv1BgColor) fi-row:h_Bgc($hoverBgColor) D(tbc)\" data-test=\"fin-col\"><span>53,823,000</span></div><div class=\"Ta(c) Py(6px) Bxz(bb) BdB Bdc($seperatorColor) Miw(120px) Miw(100px)--pnclg D(tbc)\" data-test=\"fin-col\"><span>31,536,000</span></div><div class=\"Ta(c) Py(6px) Bxz(bb) BdB Bdc($seperatorColor) Miw(120px) Miw(100px)--pnclg Bgc($lv1BgColor) fi-row:h_Bgc($hoverBgColor) D(tbc)\" data-test=\"fin-col\"><span>24,578,000</span></div></div><div><div class=\"rw-expnded\" data-test=\"fin-row\"><div class=\"D(tbr) fi-row Bgc($hoverBgColor):h\"><div class=\"D(tbc) Ta(start) Pend(15px)--mv2 Pend(10px) Bxz(bb) Py(8px) Bdends(s) Bdbs(s) Bdstarts(s) Bdstartw(1px) Bdbw(1px) Bdendw(1px) Bdc($seperatorColor) Pos(st) Start(0) Bgc($lv2BgColor) fi-row:h_Bgc($hoverBgColor) Pstart(30px)--mv2 Pstart(25px)\"><div class=\"D(ib) Va(m) Ell Mt(-3px) W(200px)--mv2 W(185px) undefined\" title=\"Operating Revenue\"><span class=\"Va(m)\">Operating Revenue</span></div><div class=\"W(3px) Pos(a) Start(100%) T(0) H(100%) Bg($pfColumnFakeShadowGradient) Pe(n) Pend(5px)\"></div></div><div class=\"Ta(c) Py(6px) Bxz(bb) BdB Bdc($seperatorColor) Miw(120px) Miw(100px)--pnclg Bgc($lv1BgColor) fi-row:h_Bgc($hoverBgColor) D(tbc)\" data-test=\"fin-col\"><span>94,028,000</span></div><div class=\"Ta(c) Py(6px) Bxz(bb) BdB Bdc($seperatorColor) Miw(120px) Miw(100px)--pnclg D(tbc)\" data-test=\"fin-col\"><span>81,462,000</span></div><div class=\"Ta(c) Py(6px) Bxz(bb) BdB Bdc($seperatorColor) Miw(120px) Miw(100px)--pnclg Bgc($lv1BgColor) fi-row:h_Bgc($hoverBgColor) D(tbc)\" data-test=\"fin-col\"><span>53,823,000</span></div><div class=\"Ta(c) Py(6px) Bxz(bb) BdB Bdc($seperatorColor) Miw(120px) Miw(100px)--pnclg D(tbc)\" data-test=\"fin-col\"><span>31,536,000</span></div><div class=\"Ta(c) Py(6px) Bxz(bb) BdB Bdc($seperatorColor) Miw(120px) Miw(100px)--pnclg Bgc($lv1BgColor) fi-row:h_Bgc($hoverBgColor) D(tbc)\" data-test=\"fin-col\"><span>24,578,000</span></div></div><div></div></div></div>\n",
    "\n",
    "soup = BeautifulSoup(row_html, 'html.parser')\n",
    "divs = soup.find_all('div', class_=lambda x: x and 'fi-row' in x.split())\n",
    "for div in divs:\n",
    "    row=[]\n",
    "    elements = div.find_all(lambda tag: tag.name == 'span' and \n",
    "                             (tag.get('class') == ['Va(m)']))\n",
    "    for element in elements:\n",
    "        row.append(element.text)\n",
    "        # print(element.text)\n",
    "    elements = div.find_all(lambda tag: tag.get('data-test') == 'fin-col')\n",
    "    for element in elements:\n",
    "        row.append(element.text)\n",
    "        # print(element.text)\n",
    "        \n",
    "    csv_data.append(row)\n",
    "        \n",
    "print(csv_data)\n",
    "with open(f'{stock}_income_statement.csv', 'w', newline='') as file:\n",
    "    writer = csv.writer(file)\n",
    "    writer.writerows(csv_data)\n",
    "    "
   ]
  },
  {
   "attachments": {},
   "cell_type": "markdown",
   "metadata": {},
   "source": [
    "### Balance Sheet"
   ]
  },
  {
   "cell_type": "code",
   "execution_count": 112,
   "metadata": {},
   "outputs": [],
   "source": [
    "driver.find_element(By.XPATH, '/html/body/div[1]/div/div/div[1]/div/div[3]/div[1]/div/div[2]/div/div/section/div[1]/div[1]/div/div[2]/a').click()"
   ]
  },
  {
   "cell_type": "code",
   "execution_count": 113,
   "metadata": {},
   "outputs": [],
   "source": [
    "# Press expand all button \n",
    "driver.find_element(By.XPATH, '/html/body/div[1]/div/div/div[1]/div/div[3]/div[1]/div/div[2]/section/div[2]/button').click()\n"
   ]
  },
  {
   "attachments": {},
   "cell_type": "markdown",
   "metadata": {},
   "source": [
    "create csv"
   ]
  },
  {
   "cell_type": "code",
   "execution_count": 114,
   "metadata": {},
   "outputs": [
    {
     "name": "stdout",
     "output_type": "stream",
     "text": [
      "Breakdown\n",
      "12/30/2022\n",
      "12/30/2021\n",
      "12/30/2020\n",
      "12/30/2019\n",
      "[['Breakdown', '12/30/2022', '12/30/2021', '12/30/2020', '12/30/2019'], ['Total Assets', '82,338,000', '62,131,000', '52,148,000', '34,309,000'], ['Current Assets', '40,917,000', '27,100,000', '26,717,000', '12,103,000'], ['Cash, Cash Equivalents & Short Term Investments', '22,185,000', '17,707,000', '19,384,000', '6,268,000'], ['Cash And Cash Equivalents', '22,185,000', '17,576,000', '19,384,000', '6,268,000'], ['Other Short Term Investments', '5,932,000', '131,000', '-', '-'], ['Receivables', '2,952,000', '1,913,000', '1,886,000', '1,324,000'], ['Accounts receivable', '2,952,000', '1,913,000', '1,886,000', '1,324,000'], ['Inventory', '12,839,000', '5,757,000', '4,101,000', '3,552,000'], ['Raw Materials', '6,137,000', '2,816,000', '1,508,000', '1,428,000'], ['Work in Process', '2,385,000', '1,089,000', '493,000', '362,000'], ['Finished Goods', '3,475,000', '1,277,000', '1,666,000', '1,356,000'], ['Other Inventories', '842,000', '575,000', '434,000', '406,000'], ['Prepaid Assets', '-', '1,723,000', '1,346,000', '713,000'], ['Restricted Cash', '-', '-', '-', '246,000'], ['Other Current Assets', '2,941,000', '-', '-', '-'], ['Total non-current assets', '41,421,000', '35,031,000', '25,431,000', '22,206,000'], ['Net PPE', '36,635,000', '31,176,000', '23,375,000', '20,199,000'], ['Gross PPE', '36,635,000', '31,176,000', '23,375,000', '20,199,000'], ['Properties', '6,889,000', '6,913,000', '6,861,000', '14,130,000'], ['Land And Improvements', '7,751,000', '4,675,000', '3,662,000', '3,024,000'], ['Machinery Furniture Equipment', '5,035,000', '4,511,000', '3,091,000', '2,447,000'], ['Other Properties', '31,600,000', '26,665,000', '20,284,000', '17,752,000'], ['Construction in Progress', '4,281,000', '5,598,000', '1,694,000', '764,000'], ['Leases', '2,366,000', '1,826,000', '1,421,000', '1,087,000'], ['Accumulated Depreciation', '-10,459,000', '-7,918,000', '-6,072,000', '-11,726,000'], ['Goodwill And Other Intangible Assets', '593,000', '1,717,000', '520,000', '537,000'], ['Goodwill', '194,000', '200,000', '207,000', '198,000'], ['Other Intangible Assets', '593,000', '1,717,000', '313,000', '339,000'], ['Non Current Note Receivables', '-', '-', '-', '393,000'], ['Other Non Current Assets', '4,193,000', '2,138,000', '1,536,000', '1,077,000'], ['Total Liabilities Net Minority Interest', '36,440,000', '30,548,000', '28,469,000', '26,199,000'], ['Current Liabilities', '26,709,000', '19,705,000', '14,248,000', '10,667,000'], ['Payables And Accrued Expenses', '22,397,000', '15,744,000', '9,906,000', '6,676,000'], ['Payables', '15,255,000', '10,025,000', '6,051,000', '3,771,000'], ['Accounts Payable', '15,255,000', '10,025,000', '6,051,000', '3,771,000'], ['Total Tax Payable', '1,235,000', '1,122,000', '777,000', '611,000'], ['Current Accrued Expenses', '7,142,000', '5,719,000', '3,855,000', '2,905,000'], ['Interest Payable', '-', '16,000', '77,000', '86,000'], ['Current Provisions', '270,000', '265,000', '417,000', '272,000'], ['Current Debt And Capital Lease Obligation', '1,502,000', '1,589,000', '2,132,000', '1,785,000'], ['Current Debt', '1,502,000', '1,589,000', '2,132,000', '1,785,000'], ['Other Current Borrowings', '1,016,000', '1,088,000', '1,758,000', '1,399,000'], ['Current Capital Lease Obligation', '971,000', '869,000', '660,000', '671,000'], ['Current Deferred Liabilities', '2,810,000', '2,372,000', '2,210,000', '1,889,000'], ['Current Deferred Revenue', '2,810,000', '2,372,000', '2,210,000', '1,889,000'], ['Other Current Liabilities', '354,000', '294,000', '241,000', '317,000'], ['Total Non Current Liabilities Net Minority Interest', '9,731,000', '10,843,000', '14,221,000', '15,532,000'], ['Long Term Provisions', '51,000', '133,000', '500,000', '545,000'], ['Long Term Debt And Capital Lease Obligation', '1,597,000', '5,245,000', '9,607,000', '11,634,000'], ['Long Term Debt', '1,597,000', '5,245,000', '9,607,000', '11,634,000'], ['Long Term Capital Lease Obligation', '2,732,000', '2,662,000', '2,348,000', '2,225,000'], ['Non Current Deferred Liabilities', '2,804,000', '2,052,000', '1,284,000', '1,207,000'], ['Non Current Deferred Taxes Liabilities', '82,000', '24,000', '151,000', '-'], ['Non Current Deferred Revenue', '2,804,000', '2,052,000', '1,284,000', '1,207,000'], ['Non Current Accrued Expenses', '2,480,000', '1,398,000', '989,000', '745,000'], ['Preferred Securities Outside Stock Equity', '-', '568,000', '604,000', '643,000'], ['Other Non Current Liabilities', '5,330,000', '3,546,000', '3,330,000', '2,691,000'], ['Total Equity Gross Minority Interest', '45,898,000', '31,583,000', '23,679,000', '8,110,000'], [\"Stockholders' Equity\", '44,704,000', '30,189,000', '22,225,000', '6,618,000'], ['Capital Stock', '3,000', '1,000', '1,000', '0'], ['Preferred Stock', '0', '0', '0', '0'], ['Common Stock', '3,000', '1,000', '1,000', '0'], ['Additional Paid in Capital', '32,177,000', '29,803,000', '27,260,000', '12,737,000'], ['Retained Earnings', '12,885,000', '331,000', '-5,399,000', '-6,083,000'], ['Gains Losses Not Affecting Retained Earnings', '-361,000', '54,000', '363,000', '-36,000'], ['Other Equity Adjustments', '-361,000', '54,000', '363,000', '-36,000'], ['Minority Interest', '1,194,000', '1,394,000', '1,454,000', '1,492,000'], ['Total Capitalization', '46,301,000', '35,434,000', '31,832,000', '18,252,000'], ['Common Stock Equity', '44,704,000', '30,189,000', '22,225,000', '6,618,000'], ['Capital Lease Obligations', '3,703,000', '3,531,000', '3,008,000', '2,896,000'], ['Net Tangible Assets', '44,111,000', '28,472,000', '21,705,000', '6,081,000'], ['Working Capital', '14,208,000', '7,395,000', '12,469,000', '1,436,000'], ['Invested Capital', '47,803,000', '37,023,000', '33,964,000', '20,037,000'], ['Tangible Book Value', '44,111,000', '28,472,000', '21,705,000', '6,081,000'], ['Total Debt', '3,099,000', '6,834,000', '11,739,000', '13,419,000'], ['Net Debt', '-', '-', '-', '7,151,000'], ['Share Issued', '3,164,000', '3,099,000', '2,880,000', '2,715,931'], ['Ordinary Shares Number', '3,164,000', '3,099,000', '2,880,000', '2,715,931']]\n"
     ]
    }
   ],
   "source": [
    "table_header = driver.find_element(By.XPATH, '/html/body/div[1]/div/div/div[1]/div/div[3]/div[1]/div/div[2]/section/div[3]/div[1]/div/div[1]/div')\n",
    "table_html = table_header.get_attribute('innerHTML')\n",
    "soup = BeautifulSoup(table_html, 'html.parser')\n",
    "spans = soup.find_all('span')\n",
    "\n",
    "csv_data = []\n",
    "row = []\n",
    "for span in spans:\n",
    "    row.append(span.text)\n",
    "    print(span.text)\n",
    "\n",
    "csv_data.append(row)\n",
    "\n",
    "\n",
    "row = driver.find_element(By.XPATH, '/html/body/div[1]/div/div/div[1]/div/div[3]/div[1]/div/div[2]/section/div[3]/div[1]/div')\n",
    "row_html = row.get_attribute('innerHTML')\n",
    "# <div class=\"D(tbr) fi-row Bgc($hoverBgColor):h\"><div class=\"D(tbc) Ta(start) Pend(15px)--mv2 Pend(10px) Bxz(bb) Py(8px) Bdends(s) Bdbs(s) Bdstarts(s) Bdstartw(1px) Bdbw(1px) Bdendw(1px) Bdc($seperatorColor) Pos(st) Start(0) Bgc($lv2BgColor) fi-row:h_Bgc($hoverBgColor) Pstart(15px)--mv2 Pstart(10px)\"><div class=\"D(ib) Va(m) Ell Mt(-3px) W(215px)--mv2 W(200px) undefined\" title=\"Total Revenue\"><button aria-label=\"Total Revenue\" class=\"P(0) M(0) Va(m) Bd(0) Fz(s) Mend(2px) tgglBtn\"><svg class=\"H(16px) Fill($primaryColor) Stk($primaryColor) tgglBtn:h_Fill($linkColor) tgglBtn:h_Stk($linkColor) Cur(p)\" width=\"16\" style=\"stroke-width:0;vertical-align:bottom\" height=\"16\" viewBox=\"0 0 48 48\" data-icon=\"caret-down\"><path d=\"M24.21 33.173l12.727-12.728c.78-.78.78-2.048 0-2.828-.78-.78-2.047-.78-2.828 0l-9.9 9.9-9.9-9.9c-.78-.78-2.047-.78-2.827 0-.78.78-.78 2.047 0 2.828L24.21 33.173z\"></path></svg></button><span class=\"Va(m)\">Total Revenue</span></div><div class=\"W(3px) Pos(a) Start(100%) T(0) H(100%) Bg($pfColumnFakeShadowGradient) Pe(n) Pend(5px)\"></div></div><div class=\"Ta(c) Py(6px) Bxz(bb) BdB Bdc($seperatorColor) Miw(120px) Miw(100px)--pnclg Bgc($lv1BgColor) fi-row:h_Bgc($hoverBgColor) D(tbc)\" data-test=\"fin-col\"><span>94,028,000</span></div><div class=\"Ta(c) Py(6px) Bxz(bb) BdB Bdc($seperatorColor) Miw(120px) Miw(100px)--pnclg D(tbc)\" data-test=\"fin-col\"><span>81,462,000</span></div><div class=\"Ta(c) Py(6px) Bxz(bb) BdB Bdc($seperatorColor) Miw(120px) Miw(100px)--pnclg Bgc($lv1BgColor) fi-row:h_Bgc($hoverBgColor) D(tbc)\" data-test=\"fin-col\"><span>53,823,000</span></div><div class=\"Ta(c) Py(6px) Bxz(bb) BdB Bdc($seperatorColor) Miw(120px) Miw(100px)--pnclg D(tbc)\" data-test=\"fin-col\"><span>31,536,000</span></div><div class=\"Ta(c) Py(6px) Bxz(bb) BdB Bdc($seperatorColor) Miw(120px) Miw(100px)--pnclg Bgc($lv1BgColor) fi-row:h_Bgc($hoverBgColor) D(tbc)\" data-test=\"fin-col\"><span>24,578,000</span></div></div><div><div class=\"rw-expnded\" data-test=\"fin-row\"><div class=\"D(tbr) fi-row Bgc($hoverBgColor):h\"><div class=\"D(tbc) Ta(start) Pend(15px)--mv2 Pend(10px) Bxz(bb) Py(8px) Bdends(s) Bdbs(s) Bdstarts(s) Bdstartw(1px) Bdbw(1px) Bdendw(1px) Bdc($seperatorColor) Pos(st) Start(0) Bgc($lv2BgColor) fi-row:h_Bgc($hoverBgColor) Pstart(30px)--mv2 Pstart(25px)\"><div class=\"D(ib) Va(m) Ell Mt(-3px) W(200px)--mv2 W(185px) undefined\" title=\"Operating Revenue\"><span class=\"Va(m)\">Operating Revenue</span></div><div class=\"W(3px) Pos(a) Start(100%) T(0) H(100%) Bg($pfColumnFakeShadowGradient) Pe(n) Pend(5px)\"></div></div><div class=\"Ta(c) Py(6px) Bxz(bb) BdB Bdc($seperatorColor) Miw(120px) Miw(100px)--pnclg Bgc($lv1BgColor) fi-row:h_Bgc($hoverBgColor) D(tbc)\" data-test=\"fin-col\"><span>94,028,000</span></div><div class=\"Ta(c) Py(6px) Bxz(bb) BdB Bdc($seperatorColor) Miw(120px) Miw(100px)--pnclg D(tbc)\" data-test=\"fin-col\"><span>81,462,000</span></div><div class=\"Ta(c) Py(6px) Bxz(bb) BdB Bdc($seperatorColor) Miw(120px) Miw(100px)--pnclg Bgc($lv1BgColor) fi-row:h_Bgc($hoverBgColor) D(tbc)\" data-test=\"fin-col\"><span>53,823,000</span></div><div class=\"Ta(c) Py(6px) Bxz(bb) BdB Bdc($seperatorColor) Miw(120px) Miw(100px)--pnclg D(tbc)\" data-test=\"fin-col\"><span>31,536,000</span></div><div class=\"Ta(c) Py(6px) Bxz(bb) BdB Bdc($seperatorColor) Miw(120px) Miw(100px)--pnclg Bgc($lv1BgColor) fi-row:h_Bgc($hoverBgColor) D(tbc)\" data-test=\"fin-col\"><span>24,578,000</span></div></div><div></div></div></div>\n",
    "\n",
    "soup = BeautifulSoup(row_html, 'html.parser')\n",
    "divs = soup.find_all('div', class_=lambda x: x and 'fi-row' in x.split())\n",
    "for div in divs:\n",
    "    row=[]\n",
    "    elements = div.find_all(lambda tag: tag.name == 'span' and \n",
    "                             (tag.get('class') == ['Va(m)']))\n",
    "    for element in elements:\n",
    "        row.append(element.text)\n",
    "        # print(element.text)\n",
    "    elements = div.find_all(lambda tag: tag.get('data-test') == 'fin-col')\n",
    "    for element in elements:\n",
    "        row.append(element.text)\n",
    "        # print(element.text)\n",
    "        \n",
    "    csv_data.append(row)\n",
    "        \n",
    "print(csv_data)\n",
    "with open(f'{stock}_balance_sheet.csv', 'w', newline='') as file:\n",
    "    writer = csv.writer(file)\n",
    "    writer.writerows(csv_data)\n",
    "    "
   ]
  },
  {
   "attachments": {},
   "cell_type": "markdown",
   "metadata": {},
   "source": [
    "### Cash Flow\n"
   ]
  },
  {
   "cell_type": "code",
   "execution_count": 5,
   "metadata": {},
   "outputs": [],
   "source": [
    "# click on financials \n",
    "driver.find_element(By.XPATH, '/html/body/div[1]/div/div/div[1]/div/div[2]/div/div/div[7]/div/div/section/div/ul/li[7]/a').click()"
   ]
  },
  {
   "cell_type": "code",
   "execution_count": 6,
   "metadata": {},
   "outputs": [],
   "source": [
    "# Click on cash flow\n",
    "driver.find_element(By.XPATH, '/html/body/div[1]/div/div/div[1]/div/div[3]/div[1]/div/div[2]/section/div[1]/div[1]/div/div[3]/a').click()"
   ]
  },
  {
   "cell_type": "code",
   "execution_count": 8,
   "metadata": {},
   "outputs": [],
   "source": [
    "# click on expand \n",
    "driver.find_element(By.XPATH, '/html/body/div[1]/div/div/div[1]/div/div[3]/div[1]/div/div[2]/section/div[2]/button/div').click()\n"
   ]
  },
  {
   "cell_type": "code",
   "execution_count": 9,
   "metadata": {},
   "outputs": [
    {
     "name": "stdout",
     "output_type": "stream",
     "text": [
      "Breakdown\n",
      "ttm\n",
      "12/30/2022\n",
      "12/30/2021\n",
      "12/30/2020\n",
      "12/30/2019\n",
      "[['Breakdown', 'ttm', '12/30/2022', '12/30/2021', '12/30/2020', '12/30/2019'], ['Operating Cash Flow', '13,956,000', '14,724,000', '11,497,000', '5,943,000', '2,405,000'], ['Cash Flow from Continuing Operating Activities', '13,956,000', '14,724,000', '11,497,000', '5,943,000', '2,405,000'], ['Net Income from Continuing Operations', '12,191,000', '12,587,000', '5,644,000', '862,000', '-775,000'], ['Operating Gains Losses', '-116,000', '221,000', '-82,000', '231,000', '98,000'], ['Gain Loss On Sale of PPE', '34,000', '140,000', '-27,000', '117,000', '146,000'], ['Net Foreign Currency Exchange Gain Loss', '-150,000', '81,000', '-55,000', '114,000', '-48,000'], ['Depreciation Amortization Depletion', '4,145,000', '3,747,000', '2,911,000', '2,322,000', '2,154,000'], ['Depreciation & amortization', '4,145,000', '3,747,000', '2,911,000', '2,322,000', '2,154,000'], ['Depreciation', '4,145,000', '3,747,000', '2,911,000', '-', '-'], ['Asset Impairment Charge', '336,000', '177,000', '140,000', '202,000', '193,000'], ['Stock based compensation', '1,644,000', '1,560,000', '2,121,000', '1,734,000', '898,000'], ['Other non-cash items', '347,000', '340,000', '245,000', '408,000', '477,000'], ['Change in working capital', '-4,591,000', '-3,908,000', '518,000', '184,000', '-349,000'], ['Change in Receivables', '-1,395,000', '-1,124,000', '-130,000', '-652,000', '-367,000'], ['Changes in Account Receivables', '-1,395,000', '-1,124,000', '-130,000', '-652,000', '-367,000'], ['Change in Inventory', '-6,389,000', '-6,465,000', '-1,709,000', '-422,000', '-429,000'], ['Change in Prepaid Assets', '-889,000', '-1,417,000', '-271,000', '-251,000', '-288,000'], ['Change in Payables And Accrued Expense', '5,557,000', '6,029,000', '4,578,000', '2,102,000', '682,000'], ['Change in Other Current Assets', '-5,525,000', '-4,121,000', '-3,405,000', '-1,416,000', '-649,000'], ['Change in Other Current Liabilities', '3,027,000', '1,904,000', '476,000', '495,000', '-41,000'], ['Change in Other Working Capital', '1,023,000', '1,286,000', '979,000', '328,000', '743,000'], ['Investing Cash Flow', '-14,940,000', '-11,973,000', '-7,868,000', '-3,132,000', '-1,436,000'], ['Cash Flow from Continuing Investing Activities', '-14,940,000', '-11,973,000', '-7,868,000', '-3,132,000', '-1,436,000'], ['Capital Expenditure Reported', '-', '-', '-', '-', '-1,327,000'], ['Net PPE Purchase And Sale', '-7,794,000', '-7,163,000', '-6,514,000', '-3,232,000', '-105,000'], ['Purchase of PPE', '-7,794,000', '-7,163,000', '-6,514,000', '-3,232,000', '-105,000'], ['Net Intangibles Purchase And Sale', '0', '927,000', '-1,228,000', '-10,000', '-5,000'], ['Purchase of Intangibles', '0', '-9,000', '-1,500,000', '-10,000', '-5,000'], ['Sale of Intangibles', '0', '936,000', '272,000', '-', '-'], ['Net Business Purchase And Sale', '-76,000', '0', '0', '-13,000', '-45,000'], ['Purchase of Business', '-76,000', '0', '0', '-13,000', '-45,000'], ['Sale of Business', '-', '0', '-', '-', '-'], ['Net Investment Purchase And Sale', '-7,146,000', '-5,813,000', '-132,000', '-', '-'], ['Purchase of Investment', '-12,449,000', '-5,835,000', '-132,000', '-', '-'], ['Sale of Investment', '5,303,000', '22,000', '-', '-', '-'], ['Net Other Investing Changes', '-', '76,000', '6,000', '123,000', '46,000'], ['Financing Cash Flow', '-1,768,000', '-3,527,000', '-5,203,000', '9,973,000', '1,529,000'], ['Cash Flow from Continuing Financing Activities', '-1,768,000', '-3,527,000', '-5,203,000', '9,973,000', '1,529,000'], ['Net Issuance Payments of Debt', '-2,161,000', '-3,866,000', '-5,732,000', '-2,488,000', '459,000'], ['Net Long Term Debt Issuance', '-2,161,000', '-3,866,000', '-5,732,000', '-2,488,000', '459,000'], ['Long Term Debt Issuance', '-', '0', '8,883,000', '9,713,000', '10,669,000'], ['Long Term Debt Payments', '-2,161,000', '-3,866,000', '-14,615,000', '-12,201,000', '-389,000'], ['Net Common Stock Issuance', '-', '0', '0', '12,269,000', '848,000'], ['Common Stock Issuance', '-', '0', '0', '12,269,000', '848,000'], ['Proceeds from Stock Option Exercised', '590,000', '541,000', '707,000', '417,000', '437,000'], ['Net Other Financing Charges', '-197,000', '-202,000', '-178,000', '-225,000', '222,000'], ['End Cash Position', '16,135,000', '16,924,000', '18,144,000', '19,901,000', '6,783,000'], ['Changes in Cash', '-2,752,000', '-776,000', '-1,574,000', '12,784,000', '2,498,000'], ['Effect of Exchange Rate Changes', '-256,000', '-444,000', '-183,000', '334,000', '8,000'], ['Beginning Cash Position', '18,887,000', '18,144,000', '19,901,000', '6,783,000', '4,277,000'], ['Income Tax Paid Supplemental Data', '-', '1,203,000', '561,000', '115,000', '54,000'], ['Interest Paid Supplemental Data', '-', '152,000', '266,000', '444,000', '455,000'], ['Capital Expenditure', '-7,794,000', '-7,172,000', '-8,014,000', '-3,242,000', '-1,437,000'], ['Issuance of Capital Stock', '-', '0', '0', '12,269,000', '848,000'], ['Issuance of Debt', '-', '0', '8,883,000', '9,713,000', '10,669,000'], ['Repayment of Debt', '-2,161,000', '-3,866,000', '-14,615,000', '-12,201,000', '-389,000'], ['Free Cash Flow', '6,162,000', '7,552,000', '3,483,000', '2,701,000', '968,000']]\n"
     ]
    }
   ],
   "source": [
    "table_header = driver.find_element(By.XPATH, '/html/body/div[1]/div/div/div[1]/div/div[3]/div[1]/div/div[2]/section/div[3]/div[1]/div/div[1]/div')\n",
    "table_html = table_header.get_attribute('innerHTML')\n",
    "soup = BeautifulSoup(table_html, 'html.parser')\n",
    "spans = soup.find_all('span')\n",
    "\n",
    "csv_data = []\n",
    "row = []\n",
    "for span in spans:\n",
    "    row.append(span.text)\n",
    "    print(span.text)\n",
    "\n",
    "csv_data.append(row)\n",
    "\n",
    "\n",
    "row = driver.find_element(By.XPATH, '/html/body/div[1]/div/div/div[1]/div/div[3]/div[1]/div/div[2]/section/div[3]/div[1]/div')\n",
    "row_html = row.get_attribute('innerHTML')\n",
    "# <div class=\"D(tbr) fi-row Bgc($hoverBgColor):h\"><div class=\"D(tbc) Ta(start) Pend(15px)--mv2 Pend(10px) Bxz(bb) Py(8px) Bdends(s) Bdbs(s) Bdstarts(s) Bdstartw(1px) Bdbw(1px) Bdendw(1px) Bdc($seperatorColor) Pos(st) Start(0) Bgc($lv2BgColor) fi-row:h_Bgc($hoverBgColor) Pstart(15px)--mv2 Pstart(10px)\"><div class=\"D(ib) Va(m) Ell Mt(-3px) W(215px)--mv2 W(200px) undefined\" title=\"Total Revenue\"><button aria-label=\"Total Revenue\" class=\"P(0) M(0) Va(m) Bd(0) Fz(s) Mend(2px) tgglBtn\"><svg class=\"H(16px) Fill($primaryColor) Stk($primaryColor) tgglBtn:h_Fill($linkColor) tgglBtn:h_Stk($linkColor) Cur(p)\" width=\"16\" style=\"stroke-width:0;vertical-align:bottom\" height=\"16\" viewBox=\"0 0 48 48\" data-icon=\"caret-down\"><path d=\"M24.21 33.173l12.727-12.728c.78-.78.78-2.048 0-2.828-.78-.78-2.047-.78-2.828 0l-9.9 9.9-9.9-9.9c-.78-.78-2.047-.78-2.827 0-.78.78-.78 2.047 0 2.828L24.21 33.173z\"></path></svg></button><span class=\"Va(m)\">Total Revenue</span></div><div class=\"W(3px) Pos(a) Start(100%) T(0) H(100%) Bg($pfColumnFakeShadowGradient) Pe(n) Pend(5px)\"></div></div><div class=\"Ta(c) Py(6px) Bxz(bb) BdB Bdc($seperatorColor) Miw(120px) Miw(100px)--pnclg Bgc($lv1BgColor) fi-row:h_Bgc($hoverBgColor) D(tbc)\" data-test=\"fin-col\"><span>94,028,000</span></div><div class=\"Ta(c) Py(6px) Bxz(bb) BdB Bdc($seperatorColor) Miw(120px) Miw(100px)--pnclg D(tbc)\" data-test=\"fin-col\"><span>81,462,000</span></div><div class=\"Ta(c) Py(6px) Bxz(bb) BdB Bdc($seperatorColor) Miw(120px) Miw(100px)--pnclg Bgc($lv1BgColor) fi-row:h_Bgc($hoverBgColor) D(tbc)\" data-test=\"fin-col\"><span>53,823,000</span></div><div class=\"Ta(c) Py(6px) Bxz(bb) BdB Bdc($seperatorColor) Miw(120px) Miw(100px)--pnclg D(tbc)\" data-test=\"fin-col\"><span>31,536,000</span></div><div class=\"Ta(c) Py(6px) Bxz(bb) BdB Bdc($seperatorColor) Miw(120px) Miw(100px)--pnclg Bgc($lv1BgColor) fi-row:h_Bgc($hoverBgColor) D(tbc)\" data-test=\"fin-col\"><span>24,578,000</span></div></div><div><div class=\"rw-expnded\" data-test=\"fin-row\"><div class=\"D(tbr) fi-row Bgc($hoverBgColor):h\"><div class=\"D(tbc) Ta(start) Pend(15px)--mv2 Pend(10px) Bxz(bb) Py(8px) Bdends(s) Bdbs(s) Bdstarts(s) Bdstartw(1px) Bdbw(1px) Bdendw(1px) Bdc($seperatorColor) Pos(st) Start(0) Bgc($lv2BgColor) fi-row:h_Bgc($hoverBgColor) Pstart(30px)--mv2 Pstart(25px)\"><div class=\"D(ib) Va(m) Ell Mt(-3px) W(200px)--mv2 W(185px) undefined\" title=\"Operating Revenue\"><span class=\"Va(m)\">Operating Revenue</span></div><div class=\"W(3px) Pos(a) Start(100%) T(0) H(100%) Bg($pfColumnFakeShadowGradient) Pe(n) Pend(5px)\"></div></div><div class=\"Ta(c) Py(6px) Bxz(bb) BdB Bdc($seperatorColor) Miw(120px) Miw(100px)--pnclg Bgc($lv1BgColor) fi-row:h_Bgc($hoverBgColor) D(tbc)\" data-test=\"fin-col\"><span>94,028,000</span></div><div class=\"Ta(c) Py(6px) Bxz(bb) BdB Bdc($seperatorColor) Miw(120px) Miw(100px)--pnclg D(tbc)\" data-test=\"fin-col\"><span>81,462,000</span></div><div class=\"Ta(c) Py(6px) Bxz(bb) BdB Bdc($seperatorColor) Miw(120px) Miw(100px)--pnclg Bgc($lv1BgColor) fi-row:h_Bgc($hoverBgColor) D(tbc)\" data-test=\"fin-col\"><span>53,823,000</span></div><div class=\"Ta(c) Py(6px) Bxz(bb) BdB Bdc($seperatorColor) Miw(120px) Miw(100px)--pnclg D(tbc)\" data-test=\"fin-col\"><span>31,536,000</span></div><div class=\"Ta(c) Py(6px) Bxz(bb) BdB Bdc($seperatorColor) Miw(120px) Miw(100px)--pnclg Bgc($lv1BgColor) fi-row:h_Bgc($hoverBgColor) D(tbc)\" data-test=\"fin-col\"><span>24,578,000</span></div></div><div></div></div></div>\n",
    "\n",
    "soup = BeautifulSoup(row_html, 'html.parser')\n",
    "divs = soup.find_all('div', class_=lambda x: x and 'fi-row' in x.split())\n",
    "for div in divs:\n",
    "    row=[]\n",
    "    elements = div.find_all(lambda tag: tag.name == 'span' and \n",
    "                             (tag.get('class') == ['Va(m)']))\n",
    "    for element in elements:\n",
    "        row.append(element.text)\n",
    "        # print(element.text)\n",
    "    elements = div.find_all(lambda tag: tag.get('data-test') == 'fin-col')\n",
    "    for element in elements:\n",
    "        row.append(element.text)\n",
    "        # print(element.text)\n",
    "        \n",
    "    csv_data.append(row)\n",
    "        \n",
    "print(csv_data)\n",
    "with open(f'{stock}_cash_flow.csv', 'w', newline='') as file:\n",
    "    writer = csv.writer(file)\n",
    "    writer.writerows(csv_data)\n",
    "    "
   ]
  }
 ],
 "metadata": {
  "kernelspec": {
   "display_name": "env",
   "language": "python",
   "name": "python3"
  },
  "language_info": {
   "codemirror_mode": {
    "name": "ipython",
    "version": 3
   },
   "file_extension": ".py",
   "mimetype": "text/x-python",
   "name": "python",
   "nbconvert_exporter": "python",
   "pygments_lexer": "ipython3",
   "version": "3.11.7"
  },
  "orig_nbformat": 4
 },
 "nbformat": 4,
 "nbformat_minor": 2
}
